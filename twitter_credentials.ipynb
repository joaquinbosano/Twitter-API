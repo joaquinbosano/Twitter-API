{
 "cells": [
  {
   "cell_type": "code",
   "execution_count": 3,
   "metadata": {},
   "outputs": [],
   "source": [
    "import numpy\n",
    "\n",
    "\n",
    "\n",
    "\n"
   ]
  },
  {
   "cell_type": "code",
   "execution_count": 2,
   "metadata": {},
   "outputs": [],
   "source": [
    "\n",
    "ACCESS_TOKEN = \"1020938988-zwilHPVtAwLYnAkb1d36oInQJ7kFF9gXib74nc7\"\n",
    "ACCESS_TOKEN_SECRET = \"vaGdW8PHkZT9NUfuaj7Z6849MXkixgcbdQ5sce0mU3Arm\"\n",
    "CONSUMER_KEY = \"BsjqwPDZHf1NLEFsl0KaiFlkO\"\n",
    "CONSUMER_SECRET = \"NzK8DbNIuJfLWwjmbF2LZMG0uJnaZ1MekovWELGY6N4MJgXRFB\"\n"
   ]
  },
  {
   "cell_type": "code",
   "execution_count": 6,
   "metadata": {},
   "outputs": [],
   "source": [
    "numpy.save(\"ACCESS_TOKEN\",ACCESS_TOKEN )\n",
    "numpy.save(\"ACCESS_TOKEN_SECRET\",ACCESS_TOKEN_SECRET )\n",
    "numpy.save(\"CONSUMER_KEY\",CONSUMER_KEY )\n",
    "numpy.save(\"CONSUMER_SECRET\",CONSUMER_SECRET )\n",
    "\n"
   ]
  },
  {
   "cell_type": "code",
   "execution_count": null,
   "metadata": {},
   "outputs": [],
   "source": []
  },
  {
   "cell_type": "code",
   "execution_count": null,
   "metadata": {},
   "outputs": [],
   "source": []
  }
 ],
 "metadata": {
  "kernelspec": {
   "display_name": "Python 3",
   "language": "python",
   "name": "python3"
  },
  "language_info": {
   "codemirror_mode": {
    "name": "ipython",
    "version": 3
   },
   "file_extension": ".py",
   "mimetype": "text/x-python",
   "name": "python",
   "nbconvert_exporter": "python",
   "pygments_lexer": "ipython3",
   "version": "3.5.6"
  }
 },
 "nbformat": 4,
 "nbformat_minor": 2
}
